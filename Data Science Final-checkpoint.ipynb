{
 "cells": [
  {
   "cell_type": "code",
   "execution_count": 18,
   "id": "1a577175",
   "metadata": {},
   "outputs": [],
   "source": [
    "import pandas as pd\n",
    "import numpy as np\n",
    "import seaborn as sns\n",
    "import matplotlib.pyplot as plt\n",
    "import sklearn.discriminant_analysis\n",
    "from sklearn.model_selection import train_test_split, StratifiedKFold, cross_val_score\n",
    "from sklearn.preprocessing import StandardScaler\n",
    "from sklearn.decomposition import PCA\n",
    "from sklearn.cluster import KMeans, DBSCAN, AgglomerativeClustering\n",
    "from sklearn.neighbors import KNeighborsClassifier\n",
    "from sklearn.tree import DecisionTreeClassifier\n",
    "from sklearn.naive_bayes import GaussianNB\n",
    "from sklearn.linear_model import LogisticRegression\n",
    "from sklearn.ensemble import RandomForestClassifier, BaggingClassifier\n",
    "from sklearn.metrics import silhouette_score\n",
    "from sklearn.model_selection import GridSearchCV\n",
    "import matplotlib.pyplot as plt"
   ]
  },
  {
   "cell_type": "markdown",
   "id": "939a69b1",
   "metadata": {},
   "source": [
    "# 1. Read the CSV and Review Its Columns"
   ]
  },
  {
   "cell_type": "code",
   "execution_count": 19,
   "id": "7b1f51c3",
   "metadata": {},
   "outputs": [
    {
     "name": "stdout",
     "output_type": "stream",
     "text": [
      "Index(['ID', 'Age', 'Gender', 'Region', 'Blood_Pressure', 'Cholesterol', 'BMI',\n",
      "       'Heart_Rate', 'Exercise_Level', 'Smoking', 'Alcohol_Consumption',\n",
      "       'Diabetes', 'Family_History', 'Stress_Level', 'Heart_Attack', 'Angina',\n",
      "       'Heart_Disease_History', 'Diet', 'Sleep_Hours', 'Occupation',\n",
      "       'Income_Level', 'Physical_Activity', 'Education_Level',\n",
      "       'Marital_Status', 'Urban_Rural', 'Medication', 'Health_Awareness',\n",
      "       'Daily_Water_Intake', 'Mental_Health', 'Obesity'],\n",
      "      dtype='object')\n"
     ]
    }
   ],
   "source": [
    "nigeria = pd.read_csv('C:/Users/RCallis/Jupyter Notebook/data/heart_attack_nigeria_youth_vs_adult.csv')\n",
    "print(nigeria.columns)"
   ]
  },
  {
   "cell_type": "markdown",
   "id": "fb85829c",
   "metadata": {},
   "source": [
    "# 2. Clean the Data"
   ]
  },
  {
   "cell_type": "code",
   "execution_count": 20,
   "id": "a703fa91",
   "metadata": {},
   "outputs": [
    {
     "name": "stdout",
     "output_type": "stream",
     "text": [
      "Index(['id', 'age', 'gender', 'region', 'blood_pressure', 'cholesterol', 'bmi',\n",
      "       'heart_rate', 'exercise_level', 'smoking', 'alcohol_consumption',\n",
      "       'diabetes', 'family_history', 'stress_level', 'heart_attack', 'angina',\n",
      "       'heart_disease_history', 'diet', 'sleep_hours', 'occupation',\n",
      "       'income_level', 'physical_activity', 'education_level',\n",
      "       'marital_status', 'urban_rural', 'medication', 'health_awareness',\n",
      "       'daily_water_intake', 'mental_health', 'obesity'],\n",
      "      dtype='object')\n"
     ]
    }
   ],
   "source": [
    "nigeria.columns = (\n",
    "    nigeria.columns\n",
    "    .str.strip()          \n",
    "    .str.lower()  \n",
    "    .str.replace(' ', '_')  \n",
    "    .str.replace('[^a-z0-9_]', '', regex=True)\n",
    ")\n",
    "\n",
    "print(nigeria.columns)"
   ]
  },
  {
   "cell_type": "markdown",
   "id": "178b7fb6",
   "metadata": {},
   "source": [
    "# 3. Fix Null Values and Categorical Data"
   ]
  },
  {
   "cell_type": "code",
   "execution_count": 21,
   "id": "1e569174",
   "metadata": {},
   "outputs": [
    {
     "name": "stdout",
     "output_type": "stream",
     "text": [
      "id                           0\n",
      "age                          0\n",
      "gender                       0\n",
      "region                       0\n",
      "blood_pressure               0\n",
      "cholesterol                  0\n",
      "bmi                          0\n",
      "heart_rate                   0\n",
      "exercise_level               0\n",
      "smoking                      0\n",
      "alcohol_consumption      35070\n",
      "diabetes                     0\n",
      "family_history               0\n",
      "stress_level                 0\n",
      "heart_attack                 0\n",
      "angina                       0\n",
      "heart_disease_history        0\n",
      "diet                         0\n",
      "sleep_hours                  0\n",
      "occupation                   0\n",
      "income_level                 0\n",
      "physical_activity            0\n",
      "education_level              0\n",
      "marital_status               0\n",
      "urban_rural                  0\n",
      "medication                   0\n",
      "health_awareness             0\n",
      "daily_water_intake           0\n",
      "mental_health                0\n",
      "obesity                      0\n",
      "dtype: int64\n"
     ]
    }
   ],
   "source": [
    "print(nigeria.isnull().sum())"
   ]
  },
  {
   "cell_type": "code",
   "execution_count": 22,
   "id": "2ba150a6",
   "metadata": {},
   "outputs": [],
   "source": [
    "nigeria.fillna('Unknown', inplace=True)"
   ]
  },
  {
   "cell_type": "code",
   "execution_count": 23,
   "id": "cb1d89cc",
   "metadata": {},
   "outputs": [],
   "source": [
    "nigeria = pd.get_dummies(nigeria, drop_first=True)"
   ]
  },
  {
   "cell_type": "markdown",
   "id": "a56bb781",
   "metadata": {},
   "source": [
    "# 4. Test and Select an ML Model"
   ]
  },
  {
   "cell_type": "markdown",
   "id": "d3df9f5a",
   "metadata": {},
   "source": [
    "## "
   ]
  },
  {
   "cell_type": "code",
   "execution_count": 24,
   "id": "954493ad",
   "metadata": {},
   "outputs": [
    {
     "name": "stdout",
     "output_type": "stream",
     "text": [
      "Testing model accuracies...\n",
      "Linear Discriminant Analysis: 0.900025 (0.000075)\n",
      "K-Nearest Neighbors: 0.893950 (0.001548)\n",
      "Decision Tree: 0.801475 (0.005604)\n",
      "Naive Bayes: 0.900025 (0.000075)\n",
      "Random Forest: 0.900025 (0.000075)\n"
     ]
    },
    {
     "data": {
      "image/png": "[encoded data removed]",
      "text/plain": [
       "<Figure size 640x480 with 1 Axes>"
      ]
     },
     "metadata": {},
     "output_type": "display_data"
    }
   ],
   "source": [
    "X = nigeria.drop('heart_attack', axis=1)\n",
    "Y = nigeria['heart_attack']\n",
    "\n",
    "X_train, X_validation, Y_train, Y_validation = train_test_split(\n",
    "    X, Y, test_size=0.20, random_state=1, shuffle=True\n",
    ")\n",
    "\n",
    "# Supervised only\n",
    "models = [\n",
    "    ('Linear Discriminant Analysis', sklearn.discriminant_analysis.LinearDiscriminantAnalysis()),\n",
    "    ('K-Nearest Neighbors', KNeighborsClassifier()),\n",
    "    ('Decision Tree', DecisionTreeClassifier()),\n",
    "    ('Naive Bayes', GaussianNB()),\n",
    "    ('Random Forest', RandomForestClassifier()),\n",
    "]\n",
    "\n",
    "results = []\n",
    "names = []\n",
    "\n",
    "print(\"Testing model accuracies...\")\n",
    "for name, model in models:\n",
    "    kfold = StratifiedKFold(n_splits=10, shuffle=True, random_state=1)\n",
    "    cv_results = cross_val_score(model, X_train, Y_train, cv=kfold, scoring='accuracy')\n",
    "    results.append(cv_results)\n",
    "    names.append(name)\n",
    "    print(f'{name}: {cv_results.mean():.6f} ({cv_results.std():.6f})')\n",
    "\n",
    "plt.boxplot(results, labels=names)\n",
    "plt.title('Algorithm Comparison with Default Parameters')\n",
    "plt.ylabel('Accuracy')\n",
    "plt.xticks(rotation=45)\n",
    "plt.tight_layout()\n",
    "plt.show()\n"
   ]
  },
  {
   "cell_type": "markdown",
   "id": "6c4ce44d",
   "metadata": {},
   "source": [
    "Let's use Linear Discriminant Analysis because it's relatively easy to implement and tied for the highest accuracy."
   ]
  },
  {
   "cell_type": "markdown",
   "id": "b316a071",
   "metadata": {},
   "source": [
    "# 5. Hyperparameter Optimization"
   ]
  },
  {
   "cell_type": "code",
   "execution_count": 29,
   "id": "d2c96a72",
   "metadata": {},
   "outputs": [
    {
     "name": "stderr",
     "output_type": "stream",
     "text": [
      "C:\\Users\\RCallis\\AppData\\Roaming\\Python\\Python311\\site-packages\\sklearn\\model_selection\\_validation.py:528: FitFailedWarning: \n",
      "2370 fits failed out of a total of 2700.\n",
      "The score on these train-test partitions for these parameters will be set to nan.\n",
      "If these failures are not expected, you can try to debug them by setting error_score='raise'.\n",
      "\n",
      "Below are more details about the failures:\n",
      "--------------------------------------------------------------------------------\n",
      "120 fits failed with the following error:\n",
      "Traceback (most recent call last):\n",
      "  File \"C:\\Users\\RCallis\\AppData\\Roaming\\Python\\Python311\\site-packages\\sklearn\\model_selection\\_validation.py\", line 866, in _fit_and_score\n",
      "    estimator.fit(X_train, y_train, **fit_params)\n",
      "  File \"C:\\Users\\RCallis\\AppData\\Roaming\\Python\\Python311\\site-packages\\sklearn\\base.py\", line 1389, in wrapper\n",
      "    return fit_method(estimator, *args, **kwargs)\n",
      "           ^^^^^^^^^^^^^^^^^^^^^^^^^^^^^^^^^^^^^^\n",
      "  File \"C:\\Users\\RCallis\\AppData\\Roaming\\Python\\Python311\\site-packages\\sklearn\\discriminant_analysis.py\", line 700, in fit\n",
      "    raise NotImplementedError(\"shrinkage not supported with 'svd' solver.\")\n",
      "NotImplementedError: shrinkage not supported with 'svd' solver.\n",
      "\n",
      "--------------------------------------------------------------------------------\n",
      "1350 fits failed with the following error:\n",
      "Traceback (most recent call last):\n",
      "  File \"C:\\Users\\RCallis\\AppData\\Roaming\\Python\\Python311\\site-packages\\sklearn\\model_selection\\_validation.py\", line 866, in _fit_and_score\n",
      "    estimator.fit(X_train, y_train, **fit_params)\n",
      "  File \"C:\\Users\\RCallis\\AppData\\Roaming\\Python\\Python311\\site-packages\\sklearn\\base.py\", line 1382, in wrapper\n",
      "    estimator._validate_params()\n",
      "  File \"C:\\Users\\RCallis\\AppData\\Roaming\\Python\\Python311\\site-packages\\sklearn\\base.py\", line 436, in _validate_params\n",
      "    validate_parameter_constraints(\n",
      "  File \"C:\\Users\\RCallis\\AppData\\Roaming\\Python\\Python311\\site-packages\\sklearn\\utils\\_param_validation.py\", line 98, in validate_parameter_constraints\n",
      "    raise InvalidParameterError(\n",
      "sklearn.utils._param_validation.InvalidParameterError: The 'priors' parameter of LinearDiscriminantAnalysis must be an array-like or None. Got 'uniform' instead.\n",
      "\n",
      "--------------------------------------------------------------------------------\n",
      "900 fits failed with the following error:\n",
      "Traceback (most recent call last):\n",
      "  File \"C:\\Users\\RCallis\\AppData\\Roaming\\Python\\Python311\\site-packages\\sklearn\\model_selection\\_validation.py\", line 866, in _fit_and_score\n",
      "    estimator.fit(X_train, y_train, **fit_params)\n",
      "  File \"C:\\Users\\RCallis\\AppData\\Roaming\\Python\\Python311\\site-packages\\sklearn\\base.py\", line 1389, in wrapper\n",
      "    return fit_method(estimator, *args, **kwargs)\n",
      "           ^^^^^^^^^^^^^^^^^^^^^^^^^^^^^^^^^^^^^^\n",
      "  File \"C:\\Users\\RCallis\\AppData\\Roaming\\Python\\Python311\\site-packages\\sklearn\\discriminant_analysis.py\", line 693, in fit\n",
      "    raise ValueError(\n",
      "ValueError: n_components cannot be larger than min(n_features, n_classes - 1).\n",
      "\n",
      "  warnings.warn(some_fits_failed_message, FitFailedWarning)\n",
      "C:\\Users\\RCallis\\AppData\\Roaming\\Python\\Python311\\site-packages\\sklearn\\model_selection\\_search.py:1108: UserWarning: One or more of the test scores are non-finite: [0.900025 0.900025 0.900025 0.900025 0.900025 0.900025 0.900025 0.900025\n",
      " 0.900025      nan      nan      nan 0.900025 0.900025 0.900025 0.900025\n",
      " 0.900025 0.900025      nan      nan      nan 0.900025 0.900025 0.900025\n",
      " 0.900025 0.900025 0.900025      nan      nan      nan 0.900025 0.900025\n",
      " 0.900025 0.900025 0.900025 0.900025      nan      nan      nan 0.900025\n",
      " 0.900025 0.900025 0.900025 0.900025 0.900025      nan      nan      nan\n",
      "      nan      nan      nan      nan      nan      nan      nan      nan\n",
      "      nan      nan      nan      nan      nan      nan      nan      nan\n",
      "      nan      nan      nan      nan      nan      nan      nan      nan\n",
      "      nan      nan      nan      nan      nan      nan      nan      nan\n",
      "      nan      nan      nan      nan      nan      nan      nan      nan\n",
      "      nan      nan      nan      nan      nan      nan      nan      nan\n",
      "      nan      nan      nan      nan      nan      nan      nan      nan\n",
      "      nan      nan      nan      nan      nan      nan      nan      nan\n",
      "      nan      nan      nan      nan      nan      nan      nan      nan\n",
      "      nan      nan      nan      nan      nan      nan      nan      nan\n",
      "      nan      nan      nan      nan      nan      nan      nan      nan\n",
      "      nan      nan      nan      nan      nan      nan      nan      nan\n",
      "      nan      nan      nan      nan      nan      nan      nan      nan\n",
      "      nan      nan      nan      nan      nan      nan      nan      nan\n",
      "      nan      nan      nan      nan      nan      nan      nan      nan\n",
      "      nan      nan      nan      nan      nan      nan      nan      nan\n",
      "      nan      nan      nan      nan      nan      nan      nan      nan\n",
      "      nan      nan      nan      nan      nan      nan      nan      nan\n",
      "      nan      nan      nan      nan      nan      nan      nan      nan\n",
      "      nan      nan      nan      nan      nan      nan      nan      nan\n",
      "      nan      nan      nan      nan      nan      nan      nan      nan\n",
      "      nan      nan      nan      nan      nan      nan      nan      nan\n",
      "      nan      nan      nan      nan      nan      nan      nan      nan\n",
      "      nan      nan      nan      nan      nan      nan      nan      nan\n",
      "      nan      nan      nan      nan      nan      nan      nan      nan\n",
      "      nan      nan      nan      nan      nan      nan      nan      nan\n",
      "      nan      nan      nan      nan      nan      nan      nan      nan\n",
      "      nan      nan      nan      nan      nan      nan]\n",
      "  warnings.warn(\n"
     ]
    },
    {
     "name": "stdout",
     "output_type": "stream",
     "text": [
      "Best hyperparameters: {'n_components': 1, 'priors': None, 'shrinkage': None, 'solver': 'svd', 'tol': 0.0001}\n",
      "Best cross-validation accuracy: 0.900025\n",
      "Validation accuracy with optimized hyperparameters: 0.901300\n"
     ]
    }
   ],
   "source": [
    "lda = LinearDiscriminantAnalysis()\n",
    "\n",
    "# Set the hyperparameters for GridSearchCV\n",
    "param_grid = {\n",
    "    'solver': ['svd', 'lsqr', 'eigen'],\n",
    "    'shrinkage': [None, 'auto', 0.1, 0.5, 1.0],  # Only valid for 'lsqr' or 'eigen'\n",
    "    'priors': [None, 'uniform'],\n",
    "    'n_components': [1, 2, 3],\n",
    "    'tol': [1e-4, 1e-5, 1e-6]\n",
    "}\n",
    "\n",
    "# Set up GridSearchCV for hyperparameter optimization\n",
    "grid_search = GridSearchCV(estimator=lda, param_grid=param_grid, cv=10, scoring='accuracy', n_jobs=-1)\n",
    "\n",
    "# Fit the grid search\n",
    "grid_search.fit(X_train, Y_train)\n",
    "\n",
    "# Display the best hyperparameters and best score\n",
    "print(f\"Best hyperparameters: {grid_search.best_params_}\")\n",
    "print(f\"Best cross-validation accuracy: {grid_search.best_score_:.6f}\")\n",
    "\n",
    "# Optionally, evaluate the best model on the validation set\n",
    "best_lda = grid_search.best_estimator_\n",
    "validation_accuracy = best_lda.score(X_validation, Y_validation)\n",
    "print(f\"Validation accuracy with optimized hyperparameters: {validation_accuracy:.6f}\")"
   ]
  },
  {
   "cell_type": "code",
   "execution_count": null,
   "id": "63f68059",
   "metadata": {},
   "outputs": [],
   "source": []
  }
 ],
 "metadata": {
  "kernelspec": {
   "display_name": "base",
   "language": "python",
   "name": "python3"
  },
  "language_info": {
   "codemirror_mode": {
    "name": "ipython",
    "version": 3
   },
   "file_extension": ".py",
   "mimetype": "text/x-python",
   "name": "python",
   "nbconvert_exporter": "python",
   "pygments_lexer": "ipython3",
   "version": "3.11.5"
  }
 },
 "nbformat": 4,
 "nbformat_minor": 5
}
