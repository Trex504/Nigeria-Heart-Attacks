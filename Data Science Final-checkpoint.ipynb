{
 "cells": [
  {
   "cell_type": "code",
   "execution_count": 3,
   "id": "1a577175",
   "metadata": {},
   "outputs": [
    {
     "ename": "ImportError",
     "evalue": "cannot import name 'LinearDiscriminantAnalysis' from 'sklearn.linear_model' (C:\\Users\\RCallis\\AppData\\Roaming\\Python\\Python311\\site-packages\\sklearn\\linear_model\\__init__.py)",
     "output_type": "error",
     "traceback": [
      "\u001b[1;31m---------------------------------------------------------------------------\u001b[0m",
      "\u001b[1;31mImportError\u001b[0m                               Traceback (most recent call last)",
      "\u001b[1;32m~\\AppData\\Local\\Temp\\ipykernel_8000\\3691768765.py\u001b[0m in \u001b[0;36m<cell line: 0>\u001b[1;34m()\u001b[0m\n\u001b[0;32m      7\u001b[0m \u001b[1;32mfrom\u001b[0m \u001b[0msklearn\u001b[0m\u001b[1;33m.\u001b[0m\u001b[0mdecomposition\u001b[0m \u001b[1;32mimport\u001b[0m \u001b[0mPCA\u001b[0m\u001b[1;33m\u001b[0m\u001b[1;33m\u001b[0m\u001b[0m\n\u001b[0;32m      8\u001b[0m \u001b[1;32mfrom\u001b[0m \u001b[0msklearn\u001b[0m\u001b[1;33m.\u001b[0m\u001b[0mcluster\u001b[0m \u001b[1;32mimport\u001b[0m \u001b[0mKMeans\u001b[0m\u001b[1;33m,\u001b[0m \u001b[0mDBSCAN\u001b[0m\u001b[1;33m,\u001b[0m \u001b[0mAgglomerativeClustering\u001b[0m\u001b[1;33m\u001b[0m\u001b[1;33m\u001b[0m\u001b[0m\n\u001b[1;32m----> 9\u001b[1;33m \u001b[1;32mfrom\u001b[0m \u001b[0msklearn\u001b[0m\u001b[1;33m.\u001b[0m\u001b[0mlinear_model\u001b[0m \u001b[1;32mimport\u001b[0m \u001b[0mLinearDiscriminantAnalysis\u001b[0m\u001b[1;33m\u001b[0m\u001b[1;33m\u001b[0m\u001b[0m\n\u001b[0m\u001b[0;32m     10\u001b[0m \u001b[1;32mfrom\u001b[0m \u001b[0msklearn\u001b[0m\u001b[1;33m.\u001b[0m\u001b[0mneighbors\u001b[0m \u001b[1;32mimport\u001b[0m \u001b[0mKNeighborsClassifier\u001b[0m\u001b[1;33m\u001b[0m\u001b[1;33m\u001b[0m\u001b[0m\n\u001b[0;32m     11\u001b[0m \u001b[1;32mfrom\u001b[0m \u001b[0msklearn\u001b[0m\u001b[1;33m.\u001b[0m\u001b[0mtree\u001b[0m \u001b[1;32mimport\u001b[0m \u001b[0mDecisionTreeClassifier\u001b[0m\u001b[1;33m\u001b[0m\u001b[1;33m\u001b[0m\u001b[0m\n",
      "\u001b[1;31mImportError\u001b[0m: cannot import name 'LinearDiscriminantAnalysis' from 'sklearn.linear_model' (C:\\Users\\RCallis\\AppData\\Roaming\\Python\\Python311\\site-packages\\sklearn\\linear_model\\__init__.py)"
     ]
    }
   ],
   "source": [
    "import pandas as pd\n",
    "import numpy as np\n",
    "import seaborn as sns\n",
    "import matplotlib.pyplot as plt\n",
    "from sklearn.model_selection import train_test_split, StratifiedKFold, cross_val_score\n",
    "from sklearn.preprocessing import StandardScaler\n",
    "from sklearn.decomposition import PCA\n",
    "from sklearn.cluster import KMeans, DBSCAN, AgglomerativeClustering\n",
    "from sklearn.linear_model import LinearDiscriminantAnalysis\n",
    "from sklearn.neighbors import KNeighborsClassifier\n",
    "from sklearn.tree import DecisionTreeClassifier\n",
    "from sklearn.naive_bayes import GaussianNB\n",
    "from sklearn.ensemble import RandomForestClassifier, BaggingClassifier\n",
    "import matplotlib.pyplot as plt"
   ]
  },
  {
   "cell_type": "markdown",
   "id": "939a69b1",
   "metadata": {},
   "source": [
    "# 1. Read in the dataset and review its columns"
   ]
  },
  {
   "cell_type": "code",
   "execution_count": null,
   "id": "7b1f51c3",
   "metadata": {},
   "outputs": [],
   "source": [
    "nigeria = pd.read_csv('data/heart_attack_nigeria_youth_vs_adult.csv')\n",
    "print(nigeria.columns)"
   ]
  },
  {
   "cell_type": "markdown",
   "id": "fb85829c",
   "metadata": {},
   "source": [
    "# 2. Clean the dataset"
   ]
  },
  {
   "cell_type": "code",
   "execution_count": null,
   "id": "a703fa91",
   "metadata": {},
   "outputs": [],
   "source": [
    "nigeria.columns = (\n",
    "    nigeria.columns\n",
    "    .str.strip()          \n",
    "    .str.lower()  \n",
    "    .str.replace(' ', '_')  \n",
    "    .str.replace('[^a-z0-9_]', '', regex=True)\n",
    ")\n",
    "\n",
    "print(nigeria.columns)"
   ]
  },
  {
   "cell_type": "markdown",
   "id": "178b7fb6",
   "metadata": {},
   "source": [
    "# 3. Fix null values and categorical data"
   ]
  },
  {
   "cell_type": "code",
   "execution_count": null,
   "id": "1e569174",
   "metadata": {},
   "outputs": [],
   "source": [
    "print(nigeria.isnull().sum())"
   ]
  },
  {
   "cell_type": "code",
   "execution_count": null,
   "id": "2ba150a6",
   "metadata": {},
   "outputs": [],
   "source": [
    "nigeria.fillna('Unknown', inplace=True)"
   ]
  },
  {
   "cell_type": "code",
   "execution_count": null,
   "id": "cb1d89cc",
   "metadata": {},
   "outputs": [],
   "source": [
    "nigeria = pd.get_dummies(nigeria, drop_first=True)"
   ]
  },
  {
   "cell_type": "markdown",
   "id": "a56bb781",
   "metadata": {},
   "source": [
    "# 4. Find a model"
   ]
  },
  {
   "cell_type": "markdown",
   "id": "d3df9f5a",
   "metadata": {},
   "source": [
    "## "
   ]
  },
  {
   "cell_type": "code",
   "execution_count": null,
   "id": "954493ad",
   "metadata": {},
   "outputs": [],
   "source": [
    "X = nigeria.drop('heart_attack', axis=1)\n",
    "Y = nigeria['heart_attack']\n",
    "\n",
    "# Split the dataset into training and validation sets\n",
    "X_train, X_validation, Y_train, Y_validation = train_test_split(X, Y, test_size=0.20, random_state=1, shuffle=True)\n",
    "\n",
    "# Standardize the features for PCA and clustering\n",
    "scaler = StandardScaler()\n",
    "X_train_scaled = scaler.fit_transform(X_train)\n",
    "\n",
    "# Models for supervised learning\n",
    "supervised_models = [\n",
    "    ('LDA', LinearDiscriminantAnalysis()),  # Linear Discriminant Analysis\n",
    "    ('KNN', KNeighborsClassifier()),       # K-Nearest Neighbors (default n_neighbors=5)\n",
    "    ('CART', DecisionTreeClassifier()),    # Decision Tree Classifier (default max_depth=None)\n",
    "    ('NB', GaussianNB()),                  # Naive Bayes\n",
    "    ('RF', RandomForestClassifier()),      # Random Forest\n",
    "    ('Bagging', BaggingClassifier()),      # Bagging Classifier\n",
    "]\n",
    "\n",
    "# Unsupervised models\n",
    "unsupervised_models = [\n",
    "    ('PCA', PCA(n_components=2)),           # Principal Component Analysis for dimensionality reduction\n",
    "    ('KMeans', KMeans(n_clusters=3)),       # K-Means clustering with 3 clusters\n",
    "    ('DBSCAN', DBSCAN()),                   # DBSCAN clustering\n",
    "    ('Agglomerative', AgglomerativeClustering(n_clusters=3))  # Agglomerative Clustering\n",
    "]\n",
    "\n",
    "# Train and evaluate supervised models\n",
    "supervised_results = []\n",
    "names = []\n",
    "\n",
    "for name, model in supervised_models:\n",
    "    kfold = StratifiedKFold(n_splits=10, shuffle=True)\n",
    "    cv_results = cross_val_score(model, X_train, Y_train, cv=kfold, scoring='accuracy')\n",
    "    supervised_results.append(cv_results)\n",
    "    names.append(name)\n",
    "    print(f'{name} (Supervised): {cv_results.mean():.6f} ({cv_results.std():.6f})')\n",
    "\n",
    "# Train and evaluate unsupervised models\n",
    "unsupervised_results = []\n",
    "unsupervised_names = []\n",
    "\n",
    "for name, model in unsupervised_models:\n",
    "    if name == 'PCA':\n",
    "        # Apply PCA and print explained variance\n",
    "        pca_result = model.fit_transform(X_train_scaled)\n",
    "        unsupervised_results.append(pca_result)\n",
    "        unsupervised_names.append(f'{name} (Components)')\n",
    "        print(f'{name} (Unsupervised): Explained Variance = {model.explained_variance_ratio_.sum():.6f}')\n",
    "    elif name == 'KMeans':\n",
    "        # Fit KMeans and print inertia\n",
    "        kmeans_result = model.fit_predict(X_train_scaled)\n",
    "        unsupervised_results.append(kmeans_result)\n",
    "        unsupervised_names.append(f'{name} (Clusters)')\n",
    "        print(f'{name} (Unsupervised): Inertia = {model.inertia_:.6f}')\n",
    "    elif name == 'DBSCAN':\n",
    "        # Fit DBSCAN and print number of clusters\n",
    "        dbscan_result = model.fit_predict(X_train_scaled)\n",
    "        unsupervised_results.append(dbscan_result)\n",
    "        unsupervised_names.append(f'{name} (Clusters)')\n",
    "        print(f'{name} (Unsupervised): Number of clusters = {len(set(dbscan_result))}')\n",
    "    elif name == 'Agglomerative':\n",
    "        # Fit Agglomerative Clustering and print number of clusters\n",
    "        agglomerative_result = model.fit_predict(X_train_scaled)\n",
    "        unsupervised_results.append(agglomerative_result)\n",
    "        unsupervised_names.append(f'{name} (Clusters)')\n",
    "        print(f'{name} (Unsupervised): Number of clusters = {len(set(agglomerative_result))}')"
   ]
  },
  {
   "cell_type": "markdown",
   "id": "727e2858",
   "metadata": {},
   "source": []
  }
 ],
 "metadata": {
  "kernelspec": {
   "display_name": "Python 3 (ipykernel)",
   "language": "python",
   "name": "python3"
  },
  "language_info": {
   "codemirror_mode": {
    "name": "ipython",
    "version": 3
   },
   "file_extension": ".py",
   "mimetype": "text/x-python",
   "name": "python",
   "nbconvert_exporter": "python",
   "pygments_lexer": "ipython3",
   "version": "3.11.8"
  }
 },
 "nbformat": 4,
 "nbformat_minor": 5
}
